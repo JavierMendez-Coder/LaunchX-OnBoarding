{
 "cells": [
  {
   "cell_type": "code",
   "execution_count": 4,
   "metadata": {},
   "outputs": [
    {
     "name": "stdout",
     "output_type": "stream",
     "text": [
      "Mercury\n",
      "Venus\n",
      "Earth\n",
      "Mars\n",
      "Saturn\n",
      "Jupiter\n",
      "Uranus\n",
      "Neptune\n"
     ]
    }
   ],
   "source": [
    "key_word = \"done\"\n",
    "planets = []\n",
    "new_planet = \"\"\n",
    "\n",
    "while not new_planet == key_word:\n",
    "    new_planet = input(f\"Type a planet | Type '{key_word}' to finish\")\n",
    "    if new_planet == \"\" or new_planet == key_word:\n",
    "        continue\n",
    "    planets.append(new_planet)\n",
    "\n",
    "for planet in planets:\n",
    "    print(planet)"
   ]
  }
 ],
 "metadata": {
  "interpreter": {
   "hash": "271a51994c579956682da721b7ec1c5c48ea8295be68f1de0131aef031ac922f"
  },
  "kernelspec": {
   "display_name": "Python 3.10.2 64-bit",
   "language": "python",
   "name": "python3"
  },
  "language_info": {
   "codemirror_mode": {
    "name": "ipython",
    "version": 3
   },
   "file_extension": ".py",
   "mimetype": "text/x-python",
   "name": "python",
   "nbconvert_exporter": "python",
   "pygments_lexer": "ipython3",
   "version": "3.10.2"
  },
  "orig_nbformat": 4
 },
 "nbformat": 4,
 "nbformat_minor": 2
}
