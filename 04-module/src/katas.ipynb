{
 "cells": [
  {
   "cell_type": "code",
   "execution_count": 1,
   "metadata": {},
   "outputs": [
    {
     "name": "stdout",
     "output_type": "stream",
     "text": [
      "On average, the Moon moves 4cm away from the Earth every year.\n",
      "The highest daylight temperature of the Moon is 127 Celsius.\n"
     ]
    }
   ],
   "source": [
    "text = \"\"\"Interesting facts about the Moon. The Moon is Earth's only satellite. \n",
    "There are several interesting facts about the Moon and how it affects life here on Earth. \n",
    "On average, the Moon moves 4cm away from the Earth every year. \n",
    "This yearly drift is not significant enough to cause immediate effects on Earth. \n",
    "The highest daylight temperature of the Moon is 127 C.\"\"\"\n",
    "\n",
    "sentence_list = []\n",
    "key_words = [\"average\", \"temperature\", \"distance\"]\n",
    "fact_list = []\n",
    "\n",
    "for sentence in text.split(\". \"):\n",
    "    new_sentence = sentence.replace(\"\\n\", \"\")\n",
    "    new_sentence += \"\" if new_sentence[len(new_sentence) - 1] == \".\" else \".\"\n",
    "    sentence_list.append(new_sentence)\n",
    "    \n",
    "for sentence in sentence_list:\n",
    "    for key_word in key_words:\n",
    "        if key_word in sentence:\n",
    "            if \" C\" in sentence:\n",
    "                sentence = sentence.replace(\"C\", \"Celsius\")\n",
    "            fact_list.append(sentence)\n",
    "            break\n",
    "    \n",
    "for fact in fact_list:\n",
    "    print(fact)"
   ]
  },
  {
   "cell_type": "code",
   "execution_count": 2,
   "metadata": {},
   "outputs": [
    {
     "name": "stdout",
     "output_type": "stream",
     "text": [
      "Gravity Facts About Moon\n",
      "--------------------------------------------------------------------------------\n",
      "Planet Name: Earth\n",
      "Gravity on Moon: 1.6199999999999999 m/s2\n",
      "\n",
      "Gravity Facts about Ganymede\n",
      "--------------------------------------------------------------------------------\n",
      "Planet Name: Mars\n",
      "Gravity on Ganymede: 1.4300000000000002 m/s2\n",
      "\n"
     ]
    }
   ],
   "source": [
    "natural_satellite = \"Moon\"\n",
    "gravity = 0.00162\n",
    "planet = \"Earth\"\n",
    "\n",
    "title = f\"Gravity Facts about {natural_satellite}\"\n",
    "facts = f\"\"\"{\"-\" * 80}\n",
    "Planet Name: {planet}\n",
    "Gravity on {natural_satellite}: {gravity * 1000} m/s2\n",
    "\"\"\"\n",
    "\n",
    "template = f\"{title.title()}\\n{facts}\"\n",
    "\n",
    "print(template)\n",
    "\n",
    "natural_satellite = \"Ganymede\"\n",
    "gravity = 0.00143\n",
    "planet = \"Mars\"\n",
    "\n",
    "new_template = \"\"\"Gravity Facts about {natural_satellite}\n",
    "--------------------------------------------------------------------------------\n",
    "Planet Name: {planet}\n",
    "Gravity on {natural_satellite}: {gravity} m/s2\n",
    "\"\"\"\n",
    "\n",
    "print(new_template.format(natural_satellite = natural_satellite, planet = planet, gravity = gravity * 1000))"
   ]
  }
 ],
 "metadata": {
  "interpreter": {
   "hash": "271a51994c579956682da721b7ec1c5c48ea8295be68f1de0131aef031ac922f"
  },
  "kernelspec": {
   "display_name": "Python 3.10.2 64-bit",
   "language": "python",
   "name": "python3"
  },
  "language_info": {
   "codemirror_mode": {
    "name": "ipython",
    "version": 3
   },
   "file_extension": ".py",
   "mimetype": "text/x-python",
   "name": "python",
   "nbconvert_exporter": "python",
   "pygments_lexer": "ipython3",
   "version": "3.10.2"
  },
  "orig_nbformat": 4
 },
 "nbformat": 4,
 "nbformat_minor": 2
}
