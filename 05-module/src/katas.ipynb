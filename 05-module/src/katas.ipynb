{
 "cells": [
  {
   "cell_type": "code",
   "execution_count": 1,
   "metadata": {},
   "outputs": [
    {
     "name": "stdout",
     "output_type": "stream",
     "text": [
      "628949330\n",
      "390577533.93\n"
     ]
    }
   ],
   "source": [
    "earth_distance = 149597870 # km\n",
    "jupiter_distance = 778547200 # km\n",
    "\n",
    "distance_between = jupiter_distance - earth_distance\n",
    "\n",
    "print(distance_between)\n",
    "print(distance_between * 0.621)"
   ]
  },
  {
   "cell_type": "code",
   "execution_count": 8,
   "metadata": {},
   "outputs": [
    {
     "name": "stdout",
     "output_type": "stream",
     "text": [
      "91700000\n"
     ]
    }
   ],
   "source": [
    "var1 = input(\"Distance from the sun to the first planet: \")\n",
    "var2 = input(\"Distance from the sun to the second planet: \")\n",
    "\n",
    "var1 = int(var1)\n",
    "var2 = int(var2)\n",
    "\n",
    "distance_between = abs(var1 - var2)\n",
    "\n",
    "print(distance_between)"
   ]
  }
 ],
 "metadata": {
  "interpreter": {
   "hash": "271a51994c579956682da721b7ec1c5c48ea8295be68f1de0131aef031ac922f"
  },
  "kernelspec": {
   "display_name": "Python 3.10.2 64-bit",
   "language": "python",
   "name": "python3"
  },
  "language_info": {
   "codemirror_mode": {
    "name": "ipython",
    "version": 3
   },
   "file_extension": ".py",
   "mimetype": "text/x-python",
   "name": "python",
   "nbconvert_exporter": "python",
   "pygments_lexer": "ipython3",
   "version": "3.10.2"
  },
  "orig_nbformat": 4
 },
 "nbformat": 4,
 "nbformat_minor": 2
}
