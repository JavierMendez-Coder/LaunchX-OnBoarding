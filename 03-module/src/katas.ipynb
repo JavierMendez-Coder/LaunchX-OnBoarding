{
 "cells": [
  {
   "cell_type": "code",
   "execution_count": 4,
   "metadata": {},
   "outputs": [
    {
     "name": "stdout",
     "output_type": "stream",
     "text": [
      "A dangerous asteroid is threatening the Earth!\n"
     ]
    }
   ],
   "source": [
    "asteroid_speed = 49\n",
    "\n",
    "if asteroid_speed > 25:\n",
    "    print(\"A dangerous asteroid is threatening the Earth!\")\n",
    "else:\n",
    "    print(\"No threats detected\")\n"
   ]
  },
  {
   "cell_type": "code",
   "execution_count": 5,
   "metadata": {},
   "outputs": [
    {
     "name": "stdout",
     "output_type": "stream",
     "text": [
      "No threats detected\n"
     ]
    }
   ],
   "source": [
    "asteroid_speed = 19\n",
    "\n",
    "if asteroid_speed >= 20:\n",
    "    print(\"A non-threatening asteroid should be able to be seen in the sky at any moment!\")\n",
    "else:\n",
    "    print(\"No threats detected\")"
   ]
  },
  {
   "cell_type": "code",
   "execution_count": 6,
   "metadata": {},
   "outputs": [
    {
     "name": "stdout",
     "output_type": "stream",
     "text": [
      "A non-threatening asteroid should be able to be seen in the sky at any moment!\n"
     ]
    }
   ],
   "source": [
    "asteroid_speed = 25\n",
    "asteroid_dimensions = 40\n",
    "\n",
    "if asteroid_dimensions <= 25:\n",
    "    print(\"No threats detected\")\n",
    "elif asteroid_dimensions > 25 and asteroid_speed > 25:\n",
    "    print(\"A dangerous asteroid is threatening the Earth!\")\n",
    "elif asteroid_speed >= 20:\n",
    "    print(\"A non-threatening asteroid should be able to be seen in the sky at any moment!\")\n",
    "else:\n",
    "    print(\"No threats detected\")"
   ]
  }
 ],
 "metadata": {
  "interpreter": {
   "hash": "271a51994c579956682da721b7ec1c5c48ea8295be68f1de0131aef031ac922f"
  },
  "kernelspec": {
   "display_name": "Python 3.10.2 64-bit",
   "language": "python",
   "name": "python3"
  },
  "language_info": {
   "codemirror_mode": {
    "name": "ipython",
    "version": 3
   },
   "file_extension": ".py",
   "mimetype": "text/x-python",
   "name": "python",
   "nbconvert_exporter": "python",
   "pygments_lexer": "ipython3",
   "version": "3.10.2"
  },
  "orig_nbformat": 4
 },
 "nbformat": 4,
 "nbformat_minor": 2
}
