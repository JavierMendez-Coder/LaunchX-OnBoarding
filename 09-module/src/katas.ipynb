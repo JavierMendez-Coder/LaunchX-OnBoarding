{
 "cells": [
  {
   "cell_type": "code",
   "execution_count": 20,
   "metadata": {},
   "outputs": [
    {
     "name": "stdout",
     "output_type": "stream",
     "text": [
      "Fuel Report:\n",
      "    Total Average: 78.33333333333333%\n",
      "    Main tank: 80%\n",
      "    External tank: 70%\n",
      "    Hydrogen Tank: 85%\n",
      "    \n"
     ]
    }
   ],
   "source": [
    "def generate_report(main_tank, external_tank, hydrogen_tank):\n",
    "    total_average = calculate_average([main_tank, external_tank, hydrogen_tank])\n",
    "    return f\"\"\"Fuel Report:\n",
    "    Total Average: {total_average}%\n",
    "    Main tank: {main_tank}%\n",
    "    External tank: {external_tank}%\n",
    "    Hydrogen Tank: {hydrogen_tank}%\n",
    "    \"\"\"\n",
    "\n",
    "def calculate_average(values):\n",
    "    total = sum(values)\n",
    "    amount = len(values)\n",
    "    return total / amount\n",
    "\n",
    "\n",
    "print(generate_report(80, 70, 85))"
   ]
  },
  {
   "cell_type": "code",
   "execution_count": 32,
   "metadata": {},
   "outputs": [
    {
     "name": "stdout",
     "output_type": "stream",
     "text": [
      "Mission to Moon\n",
      "Total travel time: 74\n",
      "Total fuel left: 500000\n",
      "Main tank: 300000 gallons\n",
      "External tank: 200000 gallons\n",
      "\n"
     ]
    }
   ],
   "source": [
    "def mission_report(destination, *minutes, **fuel_reservoirs):\n",
    "    report = f\"\"\"Mission to {destination}\n",
    "Total travel time: {sum(minutes)}\n",
    "Total fuel left: {sum(fuel_reservoirs.values())}\n",
    "\"\"\"\n",
    "\n",
    "    for tank_name, gallons in fuel_reservoirs.items():\n",
    "        report += f\"{tank_name.title()} tank: {gallons} gallons\\n\"\n",
    "\n",
    "    return report\n",
    "\n",
    "\n",
    "print(mission_report(\"Moon\", 8, 11, 55, main=300000, external=200000))"
   ]
  }
 ],
 "metadata": {
  "interpreter": {
   "hash": "271a51994c579956682da721b7ec1c5c48ea8295be68f1de0131aef031ac922f"
  },
  "kernelspec": {
   "display_name": "Python 3.10.2 64-bit",
   "language": "python",
   "name": "python3"
  },
  "language_info": {
   "codemirror_mode": {
    "name": "ipython",
    "version": 3
   },
   "file_extension": ".py",
   "mimetype": "text/x-python",
   "name": "python",
   "nbconvert_exporter": "python",
   "pygments_lexer": "ipython3",
   "version": "3.10.2"
  },
  "orig_nbformat": 4
 },
 "nbformat": 4,
 "nbformat_minor": 2
}
